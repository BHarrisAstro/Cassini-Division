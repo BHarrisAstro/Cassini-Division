{
 "cells": [
  {
   "cell_type": "code",
   "execution_count": 1,
   "id": "ccd9b8c0",
   "metadata": {},
   "outputs": [],
   "source": [
    "import numpy as np \n",
    "import matplotlib.pyplot as plt"
   ]
  },
  {
   "cell_type": "code",
   "execution_count": 2,
   "id": "6154ecd0",
   "metadata": {},
   "outputs": [],
   "source": [
    "#VARIABLE ADJUSTMENT:\n",
    "\n",
    "#Mass of Mimas (real world = 3.75e+19 kg):\n",
    "mMimas=3.75e+23 \n",
    "#exaggerated default mass for effect (3.75e+23 kg)\n",
    "\n",
    "#Number of Particles (default 800 particles):\n",
    "nParticles = 800\n",
    "\n",
    "#Orbital distance of Mimas (real world = 1.85e+8 meters): \n",
    "dSaturn_Mimas = 1.85e+8\n",
    "\n",
    "#Inner Ring Radius (real world B ring = 9.2e+7 meters):\n",
    "B_R = 9.2e+7\n",
    "\n",
    "#Outer Ring Radius (real world A ring = 1.37e+8 meters):\n",
    "A_R = 1.37e+8\n",
    "\n",
    "#Runtime (default = 1000, runs ~1 Mimas-orbit with default positions):\n",
    "n = 1000\n",
    "\n",
    "#Timestep (default = 25):\n",
    "tstep = 25 \n",
    "\n",
    "#Do not recommend changing:\n",
    "\n",
    "#Mass of Saturn (real world = 5.69e+26 kg):\n",
    "mSat=5.69e+26\n",
    "\n",
    "#Mass per particle (default = 1, particles only react to Mimas and Saturn and do not exert any gravitational pull)\n",
    "mParticles = 1\n",
    "\n",
    "#Gravitational Constant:\n",
    "G=6.67e-11\n",
    "\n",
    "#ODE Timestep as a fraction of orbital period (default = 1000, as in 1/1000 of Mimas' orbital period)\n",
    "step_fraction = 1000"
   ]
  },
  {
   "cell_type": "code",
   "execution_count": 3,
   "id": "5255082a",
   "metadata": {},
   "outputs": [
    {
     "name": "stdout",
     "output_type": "stream",
     "text": [
      "[-1.21844127e+05  0.00000000e+00  0.00000000e+00 -9.43646043e+00\n",
      "  1.84878156e+08  0.00000000e+00  0.00000000e+00  1.43182560e+04]\n",
      "7.744698608954474e-05\n",
      "[ 0.         -9.43646043] [    0.         14318.25596613]\n"
     ]
    }
   ],
   "source": [
    "rSat_rCM=dSaturn_Mimas*mMimas/(mMimas+mSat)\n",
    "\n",
    "rSat=np.array([-rSat_rCM,0])\n",
    "rMimas=np.array([dSaturn_Mimas-rSat_rCM,0])\n",
    "\n",
    "mSat=5.69*10**26\n",
    "angular_v=np.sqrt(G*(mSat+mMimas)/np.linalg.norm(rMimas-rSat)**3)\n",
    "mag_vMimas = angular_v*np.linalg.norm(rMimas)\n",
    "mag_vSat= angular_v*np.linalg.norm(rSat)\n",
    "\n",
    "vMimasx=0\n",
    "vMimasy=mag_vMimas\n",
    "\n",
    "vMimas=np.array([vMimasx,vMimasy])\n",
    "\n",
    "vSatx=0\n",
    "vSaty=-mag_vSat\n",
    "\n",
    "vSat=np.array([vSatx,vSaty])\n",
    "\n",
    "y=np.concatenate([rSat,vSat,rMimas,vMimas])\n",
    "print(y)\n",
    "\n",
    "print(angular_v)\n",
    "print(vSat,vMimas)"
   ]
  },
  {
   "cell_type": "code",
   "execution_count": 4,
   "id": "7bdda0af",
   "metadata": {},
   "outputs": [
    {
     "name": "stdout",
     "output_type": "stream",
     "text": [
      "[30693458.46926409, -125094777.7734023]\n",
      "[16670.70074349976, 4090.3502930474356]\n"
     ]
    }
   ],
   "source": [
    "#PARTICLE INITIAL POSITIONS AND VELOCITIES\n",
    "count=0 \n",
    "rParticles = []\n",
    "xdata = []\n",
    "ydata = []\n",
    "while count < nParticles:\n",
    "    r_radius = np.random.random()\n",
    "    r_theta  = np.random.random()\n",
    "    radius = B_R + (A_R - B_R) * r_radius\n",
    "    theta = r_theta * 2 * np.pi\n",
    "    x = np.cos(theta)*radius\n",
    "    y = np.sin(theta)*radius\n",
    "    rParticles.append([x,y])\n",
    "    xdata.append(x)\n",
    "    ydata.append(y)\n",
    "    count+=1\n",
    "\n",
    "vParticles = []\n",
    "\n",
    "for i in rParticles:\n",
    "    angular_v=np.sqrt(G*(mSat+mMimas)/np.linalg.norm(i-rSat)**3)\n",
    "    mag_vParticle = angular_v*np.linalg.norm(i)\n",
    "    xVelocity = -angular_v * i[1]\n",
    "    yVelocity = angular_v * i[0]\n",
    "        \n",
    "    vParticles.append([xVelocity,yVelocity])\n",
    "\n",
    "z=np.concatenate([rParticles,vParticles])\n",
    "print(rParticles[105])\n",
    "print(vParticles[105])\n",
    "rParticles = np.array(rParticles)\n",
    "vParticles = np.array(vParticles)"
   ]
  },
  {
   "cell_type": "code",
   "execution_count": 5,
   "id": "9ba7f778",
   "metadata": {},
   "outputs": [
    {
     "name": "stdout",
     "output_type": "stream",
     "text": [
      "T= 81075.42219735048\n",
      "[ 0.00000000e+00 -9.43646043e+00  7.30825420e-04 -0.00000000e+00\n",
      "  0.00000000e+00  1.43182560e+04 -1.10890577e+00 -0.00000000e+00]\n",
      "[-1.21844127e+05  0.00000000e+00  0.00000000e+00 -9.43646043e+00\n",
      "  1.84878156e+08  0.00000000e+00  0.00000000e+00  1.43182560e+04]\n"
     ]
    }
   ],
   "source": [
    "#DEFINING DIFFERENTIAL EQUATIONS \n",
    "Psquare=(4*np.pi**2)*((dSaturn_Mimas-rSat_rCM)**3)/(G*(mSat))\n",
    "P=np.sqrt(Psquare)\n",
    "print('T=',P)\n",
    "dt=P/step_fraction\n",
    "\n",
    "t=0\n",
    "\n",
    "def MimasODE(t,y):\n",
    "    global G,mMimas,mSat\n",
    "    rSat =y[0:2]\n",
    "    vSat =y[2:4]\n",
    "    rMimas =y[4:6] \n",
    "    vMimas =y[6:8] \n",
    "\n",
    "    drsdt=vSat\n",
    "    drmdt=vMimas\n",
    "    \n",
    "    Fsat_mimas=-(rSat-rMimas)*G*mSat*mMimas/np.linalg.norm(rSat-rMimas)**3\n",
    "   \n",
    "\n",
    "    Fmimas_sat=-(rMimas-rSat)*G*mMimas*mSat/np.linalg.norm(rMimas-rSat)**3\n",
    "  \n",
    "    a_sat = (Fsat_mimas)/mSat\n",
    "    \n",
    "    a_mimas = (Fmimas_sat)/mMimas\n",
    "\n",
    "    #dvdt = a \n",
    "    \n",
    "    dvsdt = a_sat\n",
    "    dvmdt = a_mimas\n",
    "\n",
    "    return np.concatenate((drsdt,dvsdt,drmdt,dvmdt))\n",
    "\n",
    "def ParticlesODE(t,z):\n",
    "    global G,mMimas,mSat,mParticles\n",
    "    \n",
    "    rParticle = z[0:2]\n",
    "    vParticle = z[2:4]\n",
    "    \n",
    "    drdt = vParticle\n",
    "    \n",
    "    Fparticle_saturn=-(rParticle-rSat)*G*mParticles*mSat/np.linalg.norm(rParticle-rSat)**3\n",
    "    Fparticle_mimas=-(rParticle-rMimas)*G*mParticles*mMimas/np.linalg.norm(rParticle-rMimas)**3\n",
    "    aParticle = (Fparticle_saturn + Fparticle_mimas)/mParticles\n",
    "    \n",
    "    dvdt = aParticle\n",
    "    \n",
    "    return np.concatenate((drdt,dvdt))\n",
    "\n",
    "y=np.concatenate([rSat,vSat,rMimas,vMimas])\n",
    "y0 = np.copy(y)\n",
    "print(MimasODE(0,y))\n",
    "print(y0)"
   ]
  },
  {
   "cell_type": "code",
   "execution_count": 6,
   "id": "1eb57bb6",
   "metadata": {},
   "outputs": [],
   "source": [
    "rParticles0 = np.copy(rParticles)\n",
    "vParticles0 = np.copy(vParticles)"
   ]
  },
  {
   "cell_type": "code",
   "execution_count": 7,
   "id": "d64aa2c3",
   "metadata": {
    "scrolled": true
   },
   "outputs": [
    {
     "name": "stdout",
     "output_type": "stream",
     "text": [
      "[[ 17703.4175854    3627.86945065]\n",
      " [-11813.08009088  12974.93549786]\n",
      " [-16735.54461951   9560.21145016]\n",
      " ...\n",
      " [-12252.20507391 -14554.09242158]\n",
      " [-15844.30841261  -8578.86839792]\n",
      " [-19464.41530761  -4583.48885125]]\n"
     ]
    },
    {
     "ename": "KeyboardInterrupt",
     "evalue": "",
     "output_type": "error",
     "traceback": [
      "\u001b[1;31m---------------------------------------------------------------------------\u001b[0m",
      "\u001b[1;31mKeyboardInterrupt\u001b[0m                         Traceback (most recent call last)",
      "Cell \u001b[1;32mIn[7], line 34\u001b[0m\n\u001b[0;32m     31\u001b[0m z\u001b[38;5;241m=\u001b[39mnp\u001b[38;5;241m.\u001b[39mconcatenate((rParticle,vParticle))\n\u001b[0;32m     33\u001b[0m g1 \u001b[38;5;241m=\u001b[39m ParticlesODE(t       ,z          )\n\u001b[1;32m---> 34\u001b[0m g2 \u001b[38;5;241m=\u001b[39m ParticlesODE(t\u001b[38;5;241m+\u001b[39mdt\u001b[38;5;241m/\u001b[39m\u001b[38;5;241m2.0\u001b[39m,z\u001b[38;5;241m+\u001b[39mg1\u001b[38;5;241m*\u001b[39mdt\u001b[38;5;241m/\u001b[39m\u001b[38;5;241m2.0\u001b[39m)\n\u001b[0;32m     35\u001b[0m g3 \u001b[38;5;241m=\u001b[39m ParticlesODE(t\u001b[38;5;241m+\u001b[39mdt\u001b[38;5;241m/\u001b[39m\u001b[38;5;241m2.0\u001b[39m,z\u001b[38;5;241m+\u001b[39mg2\u001b[38;5;241m*\u001b[39mdt\u001b[38;5;241m/\u001b[39m\u001b[38;5;241m2.0\u001b[39m)\n\u001b[0;32m     36\u001b[0m g4 \u001b[38;5;241m=\u001b[39m ParticlesODE(t\u001b[38;5;241m+\u001b[39mdt    ,z\u001b[38;5;241m+\u001b[39mg3\u001b[38;5;241m*\u001b[39mdt    )\n",
      "Cell \u001b[1;32mIn[5], line 49\u001b[0m, in \u001b[0;36mParticlesODE\u001b[1;34m(t, z)\u001b[0m\n\u001b[0;32m     45\u001b[0m aParticle \u001b[38;5;241m=\u001b[39m (Fparticle_saturn \u001b[38;5;241m+\u001b[39m Fparticle_mimas)\u001b[38;5;241m/\u001b[39mmParticles\n\u001b[0;32m     47\u001b[0m dvdt \u001b[38;5;241m=\u001b[39m aParticle\n\u001b[1;32m---> 49\u001b[0m \u001b[38;5;28;01mreturn\u001b[39;00m np\u001b[38;5;241m.\u001b[39mconcatenate((drdt,dvdt))\n",
      "File \u001b[1;32m<__array_function__ internals>:200\u001b[0m, in \u001b[0;36mconcatenate\u001b[1;34m(*args, **kwargs)\u001b[0m\n",
      "\u001b[1;31mKeyboardInterrupt\u001b[0m: "
     ]
    }
   ],
   "source": [
    "#ANIMATION\n",
    "from matplotlib.animation import FFMpegWriter\n",
    "%matplotlib qt\n",
    "plt.show()\n",
    "metadata = dict(title='Saturn, Mimas, and the A and B rings', artist='Brian Harris',comment='Single Orbit')\n",
    "writer = FFMpegWriter(fps=15, metadata=metadata)\n",
    "fig = plt.figure()\n",
    "y = y0\n",
    "rParticles = np.copy(rParticles0)\n",
    "vParticles = np.copy(vParticles0)\n",
    "print(vParticles)\n",
    "for step in range(1,int(n)):\n",
    "    \n",
    "    rSat=y[0:2]\n",
    "    rMimas=y[4:6]\n",
    "    xSat = rSat[0]\n",
    "    ySat = rSat[1]\n",
    "    xMimas = rMimas[0]\n",
    "    yMimas = rMimas[1]\n",
    "\n",
    "    f1 = MimasODE(t       ,y          )\n",
    "    f2 = MimasODE(t+dt/2.0,y+f1*dt/2.0)\n",
    "    f3 = MimasODE(t+dt/2.0,y+f2*dt/2.0)\n",
    "    f4 = MimasODE(t+dt    ,y+f3*dt    )\n",
    "\n",
    "    y = y + (f1 + 2.0*f2 + 2.0*f3 + f4) / 6.0 * dt\n",
    "    \n",
    "    for r in range(len(rParticles)):\n",
    "        rParticle = rParticles[r]\n",
    "        vParticle = vParticles[r] \n",
    "        z=np.concatenate((rParticle,vParticle))\n",
    "\n",
    "        g1 = ParticlesODE(t       ,z          )\n",
    "        g2 = ParticlesODE(t+dt/2.0,z+g1*dt/2.0)\n",
    "        g3 = ParticlesODE(t+dt/2.0,z+g2*dt/2.0)\n",
    "        g4 = ParticlesODE(t+dt    ,z+g3*dt    )\n",
    "        \n",
    "        z += (g1 + 2.0*g2 + 2.0 * g3 + g4) / 6.0 * dt\n",
    "        \n",
    "        rParticles[r] = z[0:2]\n",
    "        vParticles[r] = z[2:4]\n",
    "        \n",
    "    t += dt\n",
    "    if step%tstep==0:\n",
    "        with writer.saving(fig, \"animation1.mp4\", dpi=200):\n",
    "            plt.clf()\n",
    "            plt.scatter(rParticles[:, 0],rParticles[:, 1], s=3,color='gold')\n",
    "            plt.plot(xSat,ySat, 'or',ms=50)\n",
    "            plt.plot(xMimas,yMimas, 'ob',ms=10)\n",
    "            plt.xlim(-1.4 * dSaturn_Mimas, 1.4 * dSaturn_Mimas) \n",
    "            plt.ylim(-1.4 * dSaturn_Mimas, 1.4 * dSaturn_Mimas)\n",
    "            plt.xlabel('m')\n",
    "            plt.ylabel('m')\n",
    "            plt.draw()\n",
    "            plt.pause(0.005)\n",
    "            writer.grab_frame()"
   ]
  }
 ],
 "metadata": {
  "kernelspec": {
   "display_name": "Python 3 (ipykernel)",
   "language": "python",
   "name": "python3"
  },
  "language_info": {
   "codemirror_mode": {
    "name": "ipython",
    "version": 3
   },
   "file_extension": ".py",
   "mimetype": "text/x-python",
   "name": "python",
   "nbconvert_exporter": "python",
   "pygments_lexer": "ipython3",
   "version": "3.11.5"
  }
 },
 "nbformat": 4,
 "nbformat_minor": 5
}
